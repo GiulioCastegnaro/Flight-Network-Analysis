{
 "cells": [
  {
   "cell_type": "markdown",
   "metadata": {},
   "source": [
    "# Flights Network Project - Computational thinking 2019\n",
    "\n",
    "This Notebook describes a data analysis project created by Jaap van der Aar, Kirsten Bulsink and Giulio Castegnaro. The project is part of the course Computational Thinking at Universiteit Utrecht. The students have dealt with Python code and data about flights from (and to) every part of the World. This Notebook describes briefly the main part of the project. "
   ]
  },
  {
   "cell_type": "markdown",
   "metadata": {},
   "source": [
    "To begin with, it is necessary to import some modules. We decided to create different modules (scripts) in order to have a cleaner main part. Moreover, we used a package called NetworkX to help us organize the analysis of the flights networks."
   ]
  },
  {
   "cell_type": "code",
   "execution_count": 1,
   "metadata": {},
   "outputs": [
    {
     "ename": "KeyError",
     "evalue": "'PROJ_LIB'",
     "output_type": "error",
     "traceback": [
      "\u001b[1;31m---------------------------------------------------------------------------\u001b[0m",
      "\u001b[1;31mKeyError\u001b[0m                                  Traceback (most recent call last)",
      "\u001b[1;32m<ipython-input-1-5ddfcc68b9ee>\u001b[0m in \u001b[0;36m<module>\u001b[1;34m\u001b[0m\n\u001b[0;32m      1\u001b[0m \u001b[1;32mimport\u001b[0m \u001b[0mnetworkx\u001b[0m \u001b[1;32mas\u001b[0m \u001b[0mnx\u001b[0m\u001b[1;33m\u001b[0m\u001b[1;33m\u001b[0m\u001b[0m\n\u001b[0;32m      2\u001b[0m \u001b[1;32mimport\u001b[0m \u001b[0mbase_preprocessing\u001b[0m \u001b[1;32mas\u001b[0m \u001b[0mbpp\u001b[0m\u001b[1;33m\u001b[0m\u001b[1;33m\u001b[0m\u001b[0m\n\u001b[1;32m----> 3\u001b[1;33m \u001b[1;32mimport\u001b[0m \u001b[0mmodule_visualization_worldmap\u001b[0m \u001b[1;32mas\u001b[0m \u001b[0mworldmap\u001b[0m\u001b[1;33m\u001b[0m\u001b[1;33m\u001b[0m\u001b[0m\n\u001b[0m\u001b[0;32m      4\u001b[0m \u001b[1;32mimport\u001b[0m \u001b[0mmodule_comparison\u001b[0m \u001b[1;32mas\u001b[0m \u001b[0mcomp\u001b[0m\u001b[1;33m\u001b[0m\u001b[1;33m\u001b[0m\u001b[0m\n",
      "\u001b[1;32m~\\Documents\\Computational thinking\\Flight-Network-Analysis\\module_visualization_worldmap.py\u001b[0m in \u001b[0;36m<module>\u001b[1;34m\u001b[0m\n\u001b[0;32m      7\u001b[0m \u001b[1;32mimport\u001b[0m \u001b[0mpandas\u001b[0m \u001b[1;32mas\u001b[0m \u001b[0mpd\u001b[0m\u001b[1;33m\u001b[0m\u001b[1;33m\u001b[0m\u001b[0m\n\u001b[0;32m      8\u001b[0m \u001b[1;32mimport\u001b[0m \u001b[0mnumpy\u001b[0m \u001b[1;32mas\u001b[0m \u001b[0mnp\u001b[0m\u001b[1;33m\u001b[0m\u001b[1;33m\u001b[0m\u001b[0m\n\u001b[1;32m----> 9\u001b[1;33m \u001b[1;32mfrom\u001b[0m \u001b[0mmpl_toolkits\u001b[0m\u001b[1;33m.\u001b[0m\u001b[0mbasemap\u001b[0m \u001b[1;32mimport\u001b[0m \u001b[0mBasemap\u001b[0m\u001b[1;33m\u001b[0m\u001b[1;33m\u001b[0m\u001b[0m\n\u001b[0m\u001b[0;32m     10\u001b[0m \u001b[1;33m\u001b[0m\u001b[0m\n\u001b[0;32m     11\u001b[0m \u001b[1;33m\u001b[0m\u001b[0m\n",
      "\u001b[1;32m~\\Anaconda3\\lib\\site-packages\\mpl_toolkits\\basemap\\__init__.py\u001b[0m in \u001b[0;36m<module>\u001b[1;34m\u001b[0m\n\u001b[0;32m    153\u001b[0m \u001b[1;33m\u001b[0m\u001b[0m\n\u001b[0;32m    154\u001b[0m \u001b[1;31m# create dictionary that maps epsg codes to Basemap kwargs.\u001b[0m\u001b[1;33m\u001b[0m\u001b[1;33m\u001b[0m\u001b[1;33m\u001b[0m\u001b[0m\n\u001b[1;32m--> 155\u001b[1;33m \u001b[0mpyproj_datadir\u001b[0m \u001b[1;33m=\u001b[0m \u001b[0mos\u001b[0m\u001b[1;33m.\u001b[0m\u001b[0menviron\u001b[0m\u001b[1;33m[\u001b[0m\u001b[1;34m'PROJ_LIB'\u001b[0m\u001b[1;33m]\u001b[0m\u001b[1;33m\u001b[0m\u001b[1;33m\u001b[0m\u001b[0m\n\u001b[0m\u001b[0;32m    156\u001b[0m \u001b[0mepsgf\u001b[0m \u001b[1;33m=\u001b[0m \u001b[0mopen\u001b[0m\u001b[1;33m(\u001b[0m\u001b[0mos\u001b[0m\u001b[1;33m.\u001b[0m\u001b[0mpath\u001b[0m\u001b[1;33m.\u001b[0m\u001b[0mjoin\u001b[0m\u001b[1;33m(\u001b[0m\u001b[0mpyproj_datadir\u001b[0m\u001b[1;33m,\u001b[0m\u001b[1;34m'epsg'\u001b[0m\u001b[1;33m)\u001b[0m\u001b[1;33m)\u001b[0m\u001b[1;33m\u001b[0m\u001b[1;33m\u001b[0m\u001b[0m\n\u001b[0;32m    157\u001b[0m \u001b[0mepsg_dict\u001b[0m\u001b[1;33m=\u001b[0m\u001b[1;33m{\u001b[0m\u001b[1;33m}\u001b[0m\u001b[1;33m\u001b[0m\u001b[1;33m\u001b[0m\u001b[0m\n",
      "\u001b[1;32m~\\Anaconda3\\lib\\os.py\u001b[0m in \u001b[0;36m__getitem__\u001b[1;34m(self, key)\u001b[0m\n\u001b[0;32m    676\u001b[0m         \u001b[1;32mexcept\u001b[0m \u001b[0mKeyError\u001b[0m\u001b[1;33m:\u001b[0m\u001b[1;33m\u001b[0m\u001b[1;33m\u001b[0m\u001b[0m\n\u001b[0;32m    677\u001b[0m             \u001b[1;31m# raise KeyError with the original key value\u001b[0m\u001b[1;33m\u001b[0m\u001b[1;33m\u001b[0m\u001b[1;33m\u001b[0m\u001b[0m\n\u001b[1;32m--> 678\u001b[1;33m             \u001b[1;32mraise\u001b[0m \u001b[0mKeyError\u001b[0m\u001b[1;33m(\u001b[0m\u001b[0mkey\u001b[0m\u001b[1;33m)\u001b[0m \u001b[1;32mfrom\u001b[0m \u001b[1;32mNone\u001b[0m\u001b[1;33m\u001b[0m\u001b[1;33m\u001b[0m\u001b[0m\n\u001b[0m\u001b[0;32m    679\u001b[0m         \u001b[1;32mreturn\u001b[0m \u001b[0mself\u001b[0m\u001b[1;33m.\u001b[0m\u001b[0mdecodevalue\u001b[0m\u001b[1;33m(\u001b[0m\u001b[0mvalue\u001b[0m\u001b[1;33m)\u001b[0m\u001b[1;33m\u001b[0m\u001b[1;33m\u001b[0m\u001b[0m\n\u001b[0;32m    680\u001b[0m \u001b[1;33m\u001b[0m\u001b[0m\n",
      "\u001b[1;31mKeyError\u001b[0m: 'PROJ_LIB'"
     ]
    }
   ],
   "source": [
    "import networkx as nx\n",
    "import base_preprocessing as bpp\n",
    "import module_visualization_worldmap as worldmap\n",
    "import module_comparison as comp\n"
   ]
  },
  {
   "cell_type": "markdown",
   "metadata": {},
   "source": [
    "We started out from two different datasets found on Kaggle. We decided to merge the two of them and to work with a vast dataframe containing more than 60.000 flight routes. \n",
    "For visualization purposes, we found necessary to implement also a \"cleaning\" function that gets rid of all the flights whose destination or source airport is only contained as one of the two types in the data frame. In this way, we are able to display all the airports later in the visualization process. "
   ]
  },
  {
   "cell_type": "code",
   "execution_count": 2,
   "metadata": {},
   "outputs": [
    {
     "name": "stdout",
     "output_type": "stream",
     "text": [
      "file not found, please check filename_routes and current directory\n",
      "file not found, please check filename_routes and current directory\n"
     ]
    },
    {
     "ename": "NameError",
     "evalue": "name 'df_routes' is not defined",
     "output_type": "error",
     "traceback": [
      "\u001b[1;31m---------------------------------------------------------------------------\u001b[0m",
      "\u001b[1;31mNameError\u001b[0m                                 Traceback (most recent call last)",
      "\u001b[1;32m<ipython-input-2-46922738da8a>\u001b[0m in \u001b[0;36m<module>\u001b[1;34m\u001b[0m\n\u001b[0;32m     22\u001b[0m \u001b[1;33m\u001b[0m\u001b[0m\n\u001b[0;32m     23\u001b[0m \u001b[1;31m# merging of the two df's\u001b[0m\u001b[1;33m\u001b[0m\u001b[1;33m\u001b[0m\u001b[1;33m\u001b[0m\u001b[0m\n\u001b[1;32m---> 24\u001b[1;33m \u001b[0mdf_merged\u001b[0m \u001b[1;33m=\u001b[0m \u001b[0mbpp\u001b[0m\u001b[1;33m.\u001b[0m\u001b[0mmerge_dataframes\u001b[0m\u001b[1;33m(\u001b[0m\u001b[0mdf_routes\u001b[0m\u001b[1;33m,\u001b[0m \u001b[0mdf_airports\u001b[0m\u001b[1;33m)\u001b[0m\u001b[1;33m\u001b[0m\u001b[1;33m\u001b[0m\u001b[0m\n\u001b[0m\u001b[0;32m     25\u001b[0m \u001b[1;33m\u001b[0m\u001b[0m\n\u001b[0;32m     26\u001b[0m \u001b[1;31m# cleaning of the merged df\u001b[0m\u001b[1;33m\u001b[0m\u001b[1;33m\u001b[0m\u001b[1;33m\u001b[0m\u001b[0m\n",
      "\u001b[1;31mNameError\u001b[0m: name 'df_routes' is not defined"
     ]
    }
   ],
   "source": [
    "# define filenames which you want to load\n",
    "# in this case a csv with all flight routes and a csv with geographical locations of airports\n",
    "filename_routes = \"routes.csv\"\n",
    "filename_airports = \"airports-extended.csv\"\n",
    "\n",
    "# load routes and airports data in seperate dataframes\n",
    "try:\n",
    "    df_routes = bpp.load_data_routes_from_file(filename_routes)\n",
    "except FileNotFoundError:\n",
    "    print(\"file not found, please check filename_routes and current directory\")\n",
    "except Exception as err: \n",
    "    print(\"Something went wrong\")\n",
    "    print(err)\n",
    "    \n",
    "try:\n",
    "    df_airports = bpp.load_data_airports_from_file(filename_airports)\n",
    "except FileNotFoundError:\n",
    "    print(\"file not found, please check filename_routes and current directory\")\n",
    "except Exception as err: \n",
    "    print(\"Something went wrong\")\n",
    "    print(err)   \n",
    "    \n",
    "# merging of the two df's    \n",
    "df_merged = bpp.merge_dataframes(df_routes, df_airports)\n",
    "\n",
    "# cleaning of the merged df\n",
    "df_merged = bpp.clean_dataframe(df_merged)   "
   ]
  },
  {
   "cell_type": "markdown",
   "metadata": {},
   "source": [
    "We now can start to inspect the merged dataframe (df_merged).  "
   ]
  },
  {
   "cell_type": "code",
   "execution_count": null,
   "metadata": {},
   "outputs": [],
   "source": []
  },
  {
   "cell_type": "markdown",
   "metadata": {},
   "source": [
    "The first main choice represents a possibility to see a demo of the visualization. In this case, the use can choose to visualize the flights networks on a World map. Furthermore, the user is able to visualize only airports, routes, or the two of them. "
   ]
  },
  {
   "cell_type": "code",
   "execution_count": 4,
   "metadata": {},
   "outputs": [
    {
     "ename": "IndentationError",
     "evalue": "unexpected indent (<ipython-input-4-e6c7b02889d6>, line 2)",
     "output_type": "error",
     "traceback": [
      "\u001b[1;36m  File \u001b[1;32m\"<ipython-input-4-e6c7b02889d6>\"\u001b[1;36m, line \u001b[1;32m2\u001b[0m\n\u001b[1;33m    if choice == \"0\": # see demo\u001b[0m\n\u001b[1;37m    ^\u001b[0m\n\u001b[1;31mIndentationError\u001b[0m\u001b[1;31m:\u001b[0m unexpected indent\n"
     ]
    }
   ],
   "source": [
    "#to visualize the World map and all the airports in the dataframe \n",
    "edge_visibility = 0\n",
    "#to visualize the World map and all the connections in the dataframe \n",
    "node_visibility = 0\n",
    "#to modify size with which the airports are visualized\n",
    "node_size = 20 \n",
    "\n",
    "worldmap.visualize_on_worldmap(dataframe, directionality, node_size, node_visibility, edge_visibility)\n",
    "    "
   ]
  },
  {
   "cell_type": "markdown",
   "metadata": {},
   "source": [
    "The user is given the possibility to have a general presentation of the dataframe.\n",
    "Visualize a selected number of top airlines"
   ]
  },
  {
   "cell_type": "code",
   "execution_count": null,
   "metadata": {},
   "outputs": [],
   "source": [
    "module_inspect_data()\n",
    "    \n",
    "#create a table with the top airlines with n. of flights\n",
    "airline_table = comp.airline_table(df_merged)\n",
    "#dataframe with the flights of the desired n.of airlines \n",
    "unadjusted_dataframe=comp.take_nairlines(df_merged, airline_table, 5)\n",
    "#clean the dataframe to have the position of every airport to plot nicely\n",
    "dataframe = bpp.clean_dataframe(unadjusted_dataframe)\n",
    "                 \n"
   ]
  },
  {
   "cell_type": "markdown",
   "metadata": {},
   "source": [
    "Visualize specific airlines"
   ]
  },
  {
   "cell_type": "code",
   "execution_count": null,
   "metadata": {},
   "outputs": [],
   "source": [
    "### CALL CREATE SPECIFIC AIRLINES FUNCTION HERE, input selected_airline still to be designed \n",
    "#df_specairlines = comp.take_airlines(df_merged, selected_airline)\n",
    "                \n",
    "### selected_airline = str(input(\"Which airline do you want to visualize? (3 letters code, CAPITAL LETTERS) \"))\n",
    "\n",
    "### AND RETURN THE DATAFRAME AS:  dataframe = \n",
    "                \n",
    "### add cleaning function: dataframe = bpp.clean_dataframe(df_nairlines)\n",
    "### dataframe = bpp.clean_dataframe(df_specairlines)"
   ]
  },
  {
   "cell_type": "code",
   "execution_count": null,
   "metadata": {},
   "outputs": [],
   "source": []
  },
  {
   "cell_type": "markdown",
   "metadata": {},
   "source": [
    "It it also possible to see the most connected airports. In this case the user selects the top 3 airports, but the number is easily changeable (ranging from 1 to 50). In this case we will visualize the first 3 airlines ranked by flights. \n",
    "Visualize a desired n. of top airports "
   ]
  },
  {
   "cell_type": "code",
   "execution_count": null,
   "metadata": {},
   "outputs": [],
   "source": [
    "# determine what are the top 'n' most connected airports (hubs)\n",
    "hub_table = comp.find_hubs_in_df(df_merged, 3)\n",
    "              \n",
    "# create a dataframe with only the in and outcoming flights from hub airports\n",
    "df_hubs = comp.hub_network_df(df_merged, hub_table)\n",
    "                \n",
    "# clean dataframe from airports that do not have incoming flights\n",
    "dataframe = bpp.clean_dataframe(df_hubs)\n",
    "                \n",
    "# show barplot of amount of flight routes (edges) per hub airport\n",
    "comp.barplot_hubs(hub_table)\n",
    "                    "
   ]
  },
  {
   "cell_type": "markdown",
   "metadata": {},
   "source": [
    "Visualize the routes involving a specific airport. "
   ]
  },
  {
   "cell_type": "code",
   "execution_count": null,
   "metadata": {},
   "outputs": [],
   "source": [
    "airport = str(input('Which airport do you want to select? Enter the three letter code in capitals '))\n",
    "          \n",
    "unadjusted_dataframe = comp.specific_airport_df(dataframe, AMS)\n",
    "dataframe = bpp.clean_dataframe(unadjusted_dataframe)\n"
   ]
  },
  {
   "cell_type": "markdown",
   "metadata": {},
   "source": [
    "Visualize a directed network "
   ]
  },
  {
   "cell_type": "code",
   "execution_count": null,
   "metadata": {},
   "outputs": [],
   "source": [
    "directionality = nx.DiGraph()      "
   ]
  },
  {
   "cell_type": "markdown",
   "metadata": {},
   "source": []
  },
  {
   "cell_type": "code",
   "execution_count": null,
   "metadata": {},
   "outputs": [],
   "source": []
  }
 ],
 "metadata": {
  "kernelspec": {
   "display_name": "Python 3",
   "language": "python",
   "name": "python3"
  },
  "language_info": {
   "codemirror_mode": {
    "name": "ipython",
    "version": 3
   },
   "file_extension": ".py",
   "mimetype": "text/x-python",
   "name": "python",
   "nbconvert_exporter": "python",
   "pygments_lexer": "ipython3",
   "version": "3.7.1"
  }
 },
 "nbformat": 4,
 "nbformat_minor": 2
}
