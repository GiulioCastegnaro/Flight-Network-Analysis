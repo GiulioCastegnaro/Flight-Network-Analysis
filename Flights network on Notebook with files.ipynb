{
 "cells": [
  {
   "cell_type": "markdown",
   "metadata": {},
   "source": [
    "# Flights Network Project - Computational thinking 2019\n",
    "\n",
    "This Notebook describes a data analysis project created by Jaap van der Aar, Kirsten Bulsink and Giulio Castegnaro. The project is part of the course Computational Thinking at Universiteit Utrecht. The students have dealt with Python code and data about more than 60.000 flights from (and to) every part of the World. This Notebook describes briefly the main part of the project. \n",
    "What we want to plot: top 3 airlines, top 3 airports, barplots, compare top 2 airlines (FR and AA), some statistics.  "
   ]
  },
  {
   "cell_type": "markdown",
   "metadata": {},
   "source": [
    "To begin with, it is necessary to import some modules. We decided to create different modules (scripts) in order to have a cleaner main part. Moreover, we used a package called NetworkX to help us organize the analysis of the flights networks."
   ]
  },
  {
   "cell_type": "code",
   "execution_count": 22,
   "metadata": {},
   "outputs": [],
   "source": [
    "import networkx as nx\n",
    "import base_preprocessing as bpp\n",
    "import module_visualization_worldmap as worldmap\n",
    "import module_comparison as comp\n",
    "import module_inspect_data as inspect\n",
    "\n",
    "#ADD PACKAGES TO BE ADDED "
   ]
  },
  {
   "cell_type": "markdown",
   "metadata": {},
   "source": [
    "We started out from two different datasets found on Kaggle. We decided to merge the two of them and to work with a vast dataframe containing more than 60.000 flight routes. Moreover, we implemente a new dataframe to add the complete name of the airlines to better define them. \n",
    "For visualization purposes, we found necessary to implement also a \"cleaning\" function that gets rid of all the flights whose destination or source airport is only contained as one of the two types in the data frame. In this way, we will be able to display all the airports later in the visualization process. "
   ]
  },
  {
   "cell_type": "code",
   "execution_count": 13,
   "metadata": {},
   "outputs": [],
   "source": [
    "# define filenames which you want to load\n",
    "# in this case a csv with all flight routes and a csv with geographical locations of airports\n",
    "filename_routes = \"routes.csv\"\n",
    "filename_airports = \"airports-extended.csv\"\n",
    "filename_airlines = \"airlines.txt\"\n",
    "\n",
    "# load flight routes data into dataframe\n",
    "try:\n",
    "    df_routes = bpp.load_data_routes_from_file(filename_routes)\n",
    "except FileNotFoundError:\n",
    "    print(\"file not found, please check filename_routes and current directory\")\n",
    "except Exception as err: \n",
    "    print(\"Something went wrong\")\n",
    "    print(err)\n",
    "\n",
    "# load airports data into dataframe    \n",
    "try:\n",
    "    df_airports = bpp.load_data_airports_from_file(filename_airports)\n",
    "except FileNotFoundError:\n",
    "    print(\"file not found, please check filename_routes and current directory\")\n",
    "except Exception as err: \n",
    "    print(\"Something went wrong\")\n",
    "    print(err)   \n",
    "    \n",
    "# load airlines data into dataframe    \n",
    "try:    \n",
    "    df_airlines = bpp.load_data_airlines_from_file(filename_airlines)\n",
    "except FileNotFoundError:\n",
    "    print(\"file not found, please check filename_routes and current directory\")\n",
    "except Exception as err: \n",
    "    print(\"Something went wrong\")\n",
    "    print(err) \n",
    "    \n",
    "# left outer join of routes and airlines dataframes\n",
    "df_merge_airlines_info = bpp.left_merge_dataframes(df_routes, df_airlines, \"airline ID\")\n",
    "\n",
    "# left outer join of routes and airports dataframes\n",
    "df_merged = bpp.left_merge_dataframes(df_merge_airlines_info, df_airports, \"source airport ID\")\n",
    "\n",
    "# reindex columns of dataframe\n",
    "df_merged = df_merged.reindex(columns=[\"airline IATA code\", \"airline ID\", \"name airline\", \"country airline\", \"source airport\", \"source airport ID\", \"destination airport\", \"destination airport ID\", \"airport name\", \"airport city\", \"airport country\", \"latitude\", \"longitude\"])\n",
    "\n",
    "# cleaning of the merged dataframe\n",
    "df_merged = bpp.clean_dataframe(df_merged)     "
   ]
  },
  {
   "cell_type": "markdown",
   "metadata": {},
   "source": [
    "We now can start to inspect the merged dataframe (df_merged). For example discovering which are the top 10 countries with most airports  "
   ]
  },
  {
   "cell_type": "code",
   "execution_count": 14,
   "metadata": {},
   "outputs": [
    {
     "name": "stdout",
     "output_type": "stream",
     "text": [
      "\n",
      "The 10 countries with most airports: \n",
      "\n"
     ]
    },
    {
     "data": {
      "text/plain": [
       "<matplotlib.axes._subplots.AxesSubplot at 0x25abc084d68>"
      ]
     },
     "execution_count": 14,
     "metadata": {},
     "output_type": "execute_result"
    },
    {
     "data": {
      "image/png": "[encoded data removed]",
      "text/plain": [
       "<Figure size 432x288 with 1 Axes>"
      ]
     },
     "metadata": {},
     "output_type": "display_data"
    }
   ],
   "source": [
    "print('\\nThe 10 countries with most airports: \\n')\n",
    "df_merged['airport country'].value_counts()[0:10].plot.pie()"
   ]
  },
  {
   "cell_type": "markdown",
   "metadata": {},
   "source": [
    "Or discovering the top 10 airports ranked by number of flights. "
   ]
  },
  {
   "cell_type": "code",
   "execution_count": 16,
   "metadata": {},
   "outputs": [
    {
     "name": "stdout",
     "output_type": "stream",
     "text": [
      "\n",
      "The 10 biggest airports based on number of incoming flights: \n",
      "\n"
     ]
    },
    {
     "data": {
      "image/png": "[encoded data removed]",
      "text/plain": [
       "<Figure size 432x288 with 1 Axes>"
      ]
     },
     "metadata": {
      "needs_background": "light"
     },
     "output_type": "display_data"
    }
   ],
   "source": [
    "print('\\nThe 10 biggest airports based on number of incoming flights: \\n')\n",
    "inspect.inspect_most_flights_airports(df_merged)"
   ]
  },
  {
   "cell_type": "markdown",
   "metadata": {},
   "source": [
    "Or even knowing more about the biggest airlines in the World."
   ]
  },
  {
   "cell_type": "code",
   "execution_count": 27,
   "metadata": {},
   "outputs": [
    {
     "name": "stdout",
     "output_type": "stream",
     "text": [
      "\n",
      "The 10 biggest airlines: \n",
      "\n",
      "  airline IATA code  flight_routes_nr\n",
      "0                FR              2484\n",
      "1                AA              2351\n",
      "2                UA              2179\n",
      "3                DL              1981\n",
      "4                US              1959\n",
      "5                CZ              1452\n",
      "6                MU              1263\n",
      "7                CA              1260\n",
      "8                WN              1146\n",
      "9                U2              1130\n"
     ]
    },
    {
     "data": {
      "image/png": "[encoded data removed]",
      "text/plain": [
       "<Figure size 432x288 with 1 Axes>"
      ]
     },
     "metadata": {
      "needs_background": "light"
     },
     "output_type": "display_data"
    }
   ],
   "source": [
    "print('\\nThe 10 biggest airlines: \\n')\n",
    "airline_table_name = comp.airline_table_name(df_merged)\n",
    "print(comp.airline_table(df_merged)[:10])\n",
    "top_table = airline_table_name[:10]\n",
    "comp.barplot_airlines(top_table)"
   ]
  },
  {
   "cell_type": "markdown",
   "metadata": {},
   "source": [
    "But these are only rows and columns. What if you are a \"visual learner\" and would desire to look at airports and flights from above? \n",
    "Here you have a demo visualization of our skies. You can decide to focus on flights or airports, making changes on variables like edge_visibility, node_visibility and node_size. "
   ]
  },
  {
   "cell_type": "code",
   "execution_count": 6,
   "metadata": {},
   "outputs": [
    {
     "ename": "NameError",
     "evalue": "name 'worldmap' is not defined",
     "output_type": "error",
     "traceback": [
      "\u001b[1;31m---------------------------------------------------------------------------\u001b[0m",
      "\u001b[1;31mNameError\u001b[0m                                 Traceback (most recent call last)",
      "\u001b[1;32m<ipython-input-6-697d7760938e>\u001b[0m in \u001b[0;36m<module>\u001b[1;34m\u001b[0m\n\u001b[0;32m      6\u001b[0m \u001b[0mnode_size\u001b[0m \u001b[1;33m=\u001b[0m \u001b[1;36m20\u001b[0m\u001b[1;33m\u001b[0m\u001b[1;33m\u001b[0m\u001b[0m\n\u001b[0;32m      7\u001b[0m \u001b[0mdirectionality\u001b[0m \u001b[1;33m=\u001b[0m \u001b[0mnx\u001b[0m\u001b[1;33m.\u001b[0m\u001b[0mGraph\u001b[0m\u001b[1;33m(\u001b[0m\u001b[1;33m)\u001b[0m\u001b[1;33m\u001b[0m\u001b[1;33m\u001b[0m\u001b[0m\n\u001b[1;32m----> 8\u001b[1;33m \u001b[0mworldmap\u001b[0m\u001b[1;33m.\u001b[0m\u001b[0mvisualize_on_worldmap\u001b[0m\u001b[1;33m(\u001b[0m\u001b[0mdf_merged\u001b[0m\u001b[1;33m,\u001b[0m \u001b[0mdirectionality\u001b[0m\u001b[1;33m,\u001b[0m \u001b[0mnode_size\u001b[0m\u001b[1;33m,\u001b[0m \u001b[0mnode_visibility\u001b[0m\u001b[1;33m,\u001b[0m \u001b[0medge_visibility\u001b[0m\u001b[1;33m)\u001b[0m\u001b[1;33m\u001b[0m\u001b[1;33m\u001b[0m\u001b[0m\n\u001b[0m\u001b[0;32m      9\u001b[0m \u001b[1;33m\u001b[0m\u001b[0m\n",
      "\u001b[1;31mNameError\u001b[0m: name 'worldmap' is not defined"
     ]
    }
   ],
   "source": [
    "#to visualize the World map and all the airports in the dataframe \n",
    "edge_visibility = 0\n",
    "#to visualize the World map and all the connections in the dataframe \n",
    "node_visibility = 0\n",
    "#to modify size with which the airports are visualized\n",
    "node_size = 20 \n",
    "directionality = nx.Graph()\n",
    "worldmap.visualize_on_worldmap(df_merged, directionality, node_size, node_visibility, edge_visibility)"
   ]
  },
  {
   "cell_type": "markdown",
   "metadata": {},
   "source": [
    "There is then the possibility to have a general presentation of the dataframe.\n",
    "It is now possible to merge the last two features showed and visualize on a map a specific amount of top airlines."
   ]
  },
  {
   "cell_type": "code",
   "execution_count": 30,
   "metadata": {},
   "outputs": [
    {
     "data": {
      "image/png": "[encoded data removed]",
      "text/plain": [
       "<Figure size 432x288 with 1 Axes>"
      ]
     },
     "metadata": {
      "needs_background": "light"
     },
     "output_type": "display_data"
    }
   ],
   "source": [
    "    \n",
    "#create a table with the top airlines with n. of flights\n",
    "airline_table_name = comp.airline_table_name(df_merged)\n",
    "airline_table = comp.airline_table(df_merged)\n",
    "#dataframe with the flights of the desired n.of airlines \n",
    "dataframe = comp.take_nairlines(df_merged, airline_table, 3)\n",
    "# take top n rows of table specifief by number\n",
    "top_table = airline_table_name[:3]\n",
    "# show barplot of amount of flight routes (edges) per hub airport\n",
    "comp.barplot_airlines(top_table)\n",
    "\n",
    "worldmap.visualize_on_worldmap(dataframe, directionality, node_size, hub_nr)\n"
   ]
  },
  {
   "cell_type": "markdown",
   "metadata": {},
   "source": [
    "If you would like to focus on your favorite airline you just to type its name as a parameter. "
   ]
  },
  {
   "cell_type": "code",
   "execution_count": 31,
   "metadata": {},
   "outputs": [
    {
     "name": "stdout",
     "output_type": "stream",
     "text": [
      "\n",
      "        Which airline do you want to visualise? Enter the 2-letter IATA code in \n",
      "        capital letters.\n",
      "        \n",
      "        For inspiration see the 10 airlines with the most flight routes: \n",
      "                        \n",
      "        FR\tRyanair\n",
      "        AA\tAmerican Airlines\n",
      "        UA\tUnited Airlines\n",
      "        DL\tDelta Air Lines\n",
      "        US\tUS Airways\n",
      "        CZ\tChina Southern Airlines\n",
      "        MU\tChina Eastern Airlines\n",
      "        CA\tAir China\n",
      "        WN\tSouthwest Airlines\n",
      "        U2\teasyJet\n",
      "        \n",
      "        Enter your answer here: FR\n"
     ]
    },
    {
     "ename": "NameError",
     "evalue": "name 'worldmap' is not defined",
     "output_type": "error",
     "traceback": [
      "\u001b[1;31m---------------------------------------------------------------------------\u001b[0m",
      "\u001b[1;31mNameError\u001b[0m                                 Traceback (most recent call last)",
      "\u001b[1;32m<ipython-input-31-6bfcf2280cc7>\u001b[0m in \u001b[0;36m<module>\u001b[1;34m\u001b[0m\n\u001b[0;32m      1\u001b[0m \u001b[0mdataframe\u001b[0m \u001b[1;33m=\u001b[0m \u001b[0mcomp\u001b[0m\u001b[1;33m.\u001b[0m\u001b[0mdefine_airline_through_user_input\u001b[0m\u001b[1;33m(\u001b[0m\u001b[0mdf_merged\u001b[0m\u001b[1;33m)\u001b[0m\u001b[1;33m\u001b[0m\u001b[1;33m\u001b[0m\u001b[0m\n\u001b[0;32m      2\u001b[0m \u001b[1;31m#add visualization function\u001b[0m\u001b[1;33m\u001b[0m\u001b[1;33m\u001b[0m\u001b[1;33m\u001b[0m\u001b[0m\n\u001b[1;32m----> 3\u001b[1;33m \u001b[0mworldmap\u001b[0m\u001b[1;33m.\u001b[0m\u001b[0mvisualize_on_worldmap\u001b[0m\u001b[1;33m(\u001b[0m\u001b[0mdataframe\u001b[0m\u001b[1;33m,\u001b[0m \u001b[0mdirectionality\u001b[0m\u001b[1;33m,\u001b[0m \u001b[0mnode_size\u001b[0m\u001b[1;33m,\u001b[0m \u001b[0mhub_nr\u001b[0m\u001b[1;33m)\u001b[0m\u001b[1;33m\u001b[0m\u001b[1;33m\u001b[0m\u001b[0m\n\u001b[0m",
      "\u001b[1;31mNameError\u001b[0m: name 'worldmap' is not defined"
     ]
    }
   ],
   "source": [
    "dataframe = comp.define_airline_through_user_input(df_merged)\n",
    "#add visualization function\n",
    "worldmap.visualize_on_worldmap(dataframe, directionality, node_size, hub_nr)\n"
   ]
  },
  {
   "cell_type": "markdown",
   "metadata": {},
   "source": [
    "In a similar manner it it also possible to select how many among the most connected airports to visualize. In this case the user selects the top 3 airports, but the number is easily changeable (ranging from 1 to 50). In this case we will visualize the first 3 airports ranked by degree of connectedness. \n"
   ]
  },
  {
   "cell_type": "code",
   "execution_count": 32,
   "metadata": {},
   "outputs": [
    {
     "data": {
      "image/png": "[encoded data removed]",
      "text/plain": [
       "<Figure size 432x288 with 1 Axes>"
      ]
     },
     "metadata": {
      "needs_background": "light"
     },
     "output_type": "display_data"
    }
   ],
   "source": [
    "# determine what are the top 'n' most connected airports (hubs)\n",
    "hub_table = comp.find_hubs_in_df(df_merged, 3)\n",
    "                \n",
    "# create a dataframe with only the in- and outcoming flights from hub airports\n",
    "dataframe = comp.hub_network_df(df_merged, hub_table)\n",
    "                \n",
    "# show barplot of amount of flight routes (edges) per hub airport\n",
    "comp.barplot_from_df(hub_table, x=\"airport\" , y=\"degree\", ylabel=\"flight routes\")\n",
    "\n",
    "worldmap.visualize_on_worldmap(dataframe, directionality, node_size, hub_nr)\n"
   ]
  },
  {
   "cell_type": "markdown",
   "metadata": {},
   "source": [
    "If you are curious to discover all the flight from and to a specific airport, you just need to type the 3 capital letters code corresponding to it. As a default setting, we will visualize Amsterdam Schipol. \n",
    "Want more ideas? Have fun with Frankfurt airport (FRA), New york (JFK) or Tokyo (HND). "
   ]
  },
  {
   "cell_type": "code",
   "execution_count": 36,
   "metadata": {},
   "outputs": [],
   "source": [
    "unadjusted_dataframe = comp.specific_airport_df(dataframe, 'AMS')\n",
    "dataframe = bpp.clean_dataframe(unadjusted_dataframe)\n",
    "#TRY IF IT WORKS WITH AMS OR NEEDED 'AMS'\n",
    "worldmap.visualize_on_worldmap(dataframe, directionality, node_size, hub_nr)\n"
   ]
  },
  {
   "cell_type": "markdown",
   "metadata": {},
   "source": [
    "Finally, it's also possible to make some comparisons, to evaluate two different airlines or hubs and see differences and similarities between the two. You just need to think which ones you would like to analyze. As an example, it is here presented the comparison between Amsterdam and Frankfurt. But again, just type your favorite airport's 3 letters code and visualize its network. \n"
   ]
  },
  {
   "cell_type": "code",
   "execution_count": 37,
   "metadata": {
    "scrolled": true
   },
   "outputs": [
    {
     "name": "stdout",
     "output_type": "stream",
     "text": [
      "\n",
      "        Which airline do you want to visualise? Enter the 2-letter IATA code in \n",
      "        capital letters.\n",
      "        \n",
      "        For inspiration see the 10 airlines with the most flight routes: \n",
      "                        \n",
      "        FR\tRyanair\n",
      "        AA\tAmerican Airlines\n",
      "        UA\tUnited Airlines\n",
      "        DL\tDelta Air Lines\n",
      "        US\tUS Airways\n",
      "        CZ\tChina Southern Airlines\n",
      "        MU\tChina Eastern Airlines\n",
      "        CA\tAir China\n",
      "        WN\tSouthwest Airlines\n",
      "        U2\teasyJet\n",
      "        \n",
      "        Enter your answer here: FR\n",
      "\n",
      "You choose your first airline. Now select another one to compare!\n",
      "\n",
      "        Which airline do you want to visualise? Enter the 2-letter IATA code in \n",
      "        capital letters.\n",
      "        \n",
      "        For inspiration see the 10 airlines with the most flight routes: \n",
      "                        \n",
      "        FR\tRyanair\n",
      "        AA\tAmerican Airlines\n",
      "        UA\tUnited Airlines\n",
      "        DL\tDelta Air Lines\n",
      "        US\tUS Airways\n",
      "        CZ\tChina Southern Airlines\n",
      "        MU\tChina Eastern Airlines\n",
      "        CA\tAir China\n",
      "        WN\tSouthwest Airlines\n",
      "        U2\teasyJet\n",
      "        \n",
      "        Enter your answer here: AA\n"
     ]
    },
    {
     "ename": "NameError",
     "evalue": "name 'worldmap' is not defined",
     "output_type": "error",
     "traceback": [
      "\u001b[1;31m---------------------------------------------------------------------------\u001b[0m",
      "\u001b[1;31mNameError\u001b[0m                                 Traceback (most recent call last)",
      "\u001b[1;32m<ipython-input-37-56e904ed1b94>\u001b[0m in \u001b[0;36m<module>\u001b[1;34m\u001b[0m\n\u001b[0;32m      7\u001b[0m \u001b[1;33m\u001b[0m\u001b[0m\n\u001b[0;32m      8\u001b[0m \u001b[1;31m# visualize airline networks on worldmap\u001b[0m\u001b[1;33m\u001b[0m\u001b[1;33m\u001b[0m\u001b[1;33m\u001b[0m\u001b[0m\n\u001b[1;32m----> 9\u001b[1;33m \u001b[0mworldmap\u001b[0m\u001b[1;33m.\u001b[0m\u001b[0mvisualize_two_networks_on_worldmap\u001b[0m\u001b[1;33m(\u001b[0m\u001b[0mdf_airline1\u001b[0m\u001b[1;33m,\u001b[0m \u001b[0mdf_airline2\u001b[0m\u001b[1;33m)\u001b[0m\u001b[1;33m\u001b[0m\u001b[1;33m\u001b[0m\u001b[0m\n\u001b[0m\u001b[0;32m     10\u001b[0m \u001b[1;33m\u001b[0m\u001b[0m\n\u001b[0;32m     11\u001b[0m \u001b[1;31m# print network metrics table\u001b[0m\u001b[1;33m\u001b[0m\u001b[1;33m\u001b[0m\u001b[1;33m\u001b[0m\u001b[0m\n",
      "\u001b[1;31mNameError\u001b[0m: name 'worldmap' is not defined"
     ]
    }
   ],
   "source": [
    "# let user specify airlines to visualize and create dataframes for both \n",
    "df_airline1 = comp.define_airline_through_user_input(df_merged)\n",
    "print(\"\\nYou choose your first airline. Now select another one to compare!\")\n",
    "        \n",
    "df_airline2 = comp.define_airline_through_user_input(df_merged)\n",
    "        \n",
    "\n",
    "# visualize airline networks on worldmap\n",
    "worldmap.visualize_two_networks_on_worldmap(df_airline1, df_airline2)  \n",
    "        \n",
    "# print network metrics table\n",
    "comp_air.create_graph_metrics_table(df_airline1, df_airline2)\n",
    "\n"
   ]
  },
  {
   "cell_type": "markdown",
   "metadata": {},
   "source": []
  },
  {
   "cell_type": "code",
   "execution_count": null,
   "metadata": {},
   "outputs": [],
   "source": []
  }
 ],
 "metadata": {
  "kernelspec": {
   "display_name": "Python 3",
   "language": "python",
   "name": "python3"
  },
  "language_info": {
   "codemirror_mode": {
    "name": "ipython",
    "version": 3
   },
   "file_extension": ".py",
   "mimetype": "text/x-python",
   "name": "python",
   "nbconvert_exporter": "python",
   "pygments_lexer": "ipython3",
   "version": "3.7.1"
  }
 },
 "nbformat": 4,
 "nbformat_minor": 2
}
